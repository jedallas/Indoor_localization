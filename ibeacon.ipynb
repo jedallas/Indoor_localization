{
 "cells": [
  {
   "cell_type": "code",
   "execution_count": 2,
   "metadata": {
    "collapsed": true
   },
   "outputs": [],
   "source": [
    "import pandas as pd\n",
    "import re\n",
    "import numpy as np\n",
    "import seaborn as sns\n",
    "import matplotlib.pyplot as plt\n"
   ]
  },
  {
   "cell_type": "code",
   "execution_count": null,
   "metadata": {
    "collapsed": true
   },
   "outputs": [],
   "source": [
    "columns_name=['UUID','Palmap','CellID','fingerprinting']\n",
    "file_plot=pd.read_csv(r'C:/Users/user/Desktop/VIAX/content/13/uuid1_12.log',encoding='utf-8',header=None,names=columns_name)"
   ]
  },
  {
   "cell_type": "code",
   "execution_count": 5,
   "metadata": {
    "collapsed": true
   },
   "outputs": [],
   "source": [
    "for i in range(0,len(file_plot)):\n",
    "    pat = re.findall(\"C2:00:4D:00:03:[A-Z0-9]*\",file_plot['UUID'][i])\n",
    "    file_plot.loc[i,'ID']=pat[0]"
   ]
  },
  {
   "cell_type": "code",
   "execution_count": 6,
   "metadata": {
    "collapsed": true
   },
   "outputs": [],
   "source": [
    "file_plot.drop('Palmap',axis=1,inplace=True)"
   ]
  },
  {
   "cell_type": "code",
   "execution_count": 7,
   "metadata": {
    "collapsed": true
   },
   "outputs": [],
   "source": [
    "for i in range(0,len(file_plot)):\n",
    "    day=file_plot['UUID'][i][0:5]\n",
    "    time =file_plot['UUID'][i][6:18]\n",
    "    file_plot.loc[i,'DAY']=day\n",
    "    file_plot.loc[i,'TIME']=time"
   ]
  },
  {
   "cell_type": "code",
   "execution_count": 8,
   "metadata": {
    "collapsed": true
   },
   "outputs": [],
   "source": [
    "file_plot.drop('UUID',axis=1,inplace=True)"
   ]
  },
  {
   "cell_type": "code",
   "execution_count": 9,
   "metadata": {},
   "outputs": [
    {
     "data": {
      "text/plain": [
       "(26084, 5)"
      ]
     },
     "execution_count": 9,
     "metadata": {},
     "output_type": "execute_result"
    }
   ],
   "source": [
    "file_plot.shape"
   ]
  },
  {
   "cell_type": "code",
   "execution_count": 10,
   "metadata": {
    "collapsed": true
   },
   "outputs": [],
   "source": [
    "file_plot=file_plot.loc[file_plot['DAY']=='07-30']"
   ]
  },
  {
   "cell_type": "code",
   "execution_count": 11,
   "metadata": {},
   "outputs": [
    {
     "data": {
      "text/plain": [
       "(26064, 5)"
      ]
     },
     "execution_count": 11,
     "metadata": {},
     "output_type": "execute_result"
    }
   ],
   "source": [
    "file_plot.shape"
   ]
  },
  {
   "cell_type": "code",
   "execution_count": 12,
   "metadata": {
    "collapsed": true
   },
   "outputs": [],
   "source": [
    "for i in range(1,13):\n",
    "    exec('file_plot.loc[file_plot.CellID==\" CellID: {}\",\"CellID\"]={}'.format(i, i))"
   ]
  },
  {
   "cell_type": "code",
   "execution_count": 13,
   "metadata": {
    "collapsed": true
   },
   "outputs": [],
   "source": [
    "file_plot.rename(index=str, columns={'CellID':'Location'},inplace=True)"
   ]
  },
  {
   "cell_type": "code",
   "execution_count": 14,
   "metadata": {
    "collapsed": true
   },
   "outputs": [],
   "source": [
    "file_plot['Location']=file_plot['Location'].astype('int64')"
   ]
  },
  {
   "cell_type": "code",
   "execution_count": 36,
   "metadata": {},
   "outputs": [
    {
     "name": "stderr",
     "output_type": "stream",
     "text": [
      "E:\\anaconda\\lib\\site-packages\\ipykernel_launcher.py:10: SettingWithCopyWarning: \n",
      "A value is trying to be set on a copy of a slice from a DataFrame\n",
      "\n",
      "See the caveats in the documentation: http://pandas.pydata.org/pandas-docs/stable/indexing.html#indexing-view-versus-copy\n",
      "  # Remove the CWD from sys.path while we load stuff.\n"
     ]
    }
   ],
   "source": [
    "for i in range(0,len(file_plot)):\n",
    "    a=file_plot['TIME'][i].split(':')\n",
    "    hour,minute=a[0:2]\n",
    "    second,millisecond=a[2].split('.')\n",
    "    hour=int(hour)\n",
    "    minute=int(minute)\n",
    "    second=int(second)\n",
    "    millisecond=int(millisecond)\n",
    "    time=millisecond+1000*(second+60*(minute+60*hour))\n",
    "    file_plot['TIME'][i]=time"
   ]
  },
  {
   "cell_type": "code",
   "execution_count": 42,
   "metadata": {
    "collapsed": true
   },
   "outputs": [],
   "source": [
    "file_plot.drop('DAY',axis=1,inplace=True)"
   ]
  },
  {
   "cell_type": "code",
   "execution_count": 44,
   "metadata": {
    "collapsed": true
   },
   "outputs": [],
   "source": [
    "for i in range(1,13):\n",
    "    \n",
    "    exec('a=file_plot[file_plot.Location=={}]'.format(i))\n",
    "    exec('a.to_csv(\"C:/Users/user/Desktop/VIAX/content/13/cellid/file_{}.csv\",index=False)'.format(i))"
   ]
  },
  {
   "cell_type": "code",
   "execution_count": null,
   "metadata": {
    "collapsed": true
   },
   "outputs": [],
   "source": [
    "#new file"
   ]
  },
  {
   "cell_type": "code",
   "execution_count": 55,
   "metadata": {
    "collapsed": true
   },
   "outputs": [],
   "source": [
    "ibeacon_list=list(file_plot['ID'].value_counts().index)\n",
    "ibeacon_list.append('Location')"
   ]
  },
  {
   "cell_type": "code",
   "execution_count": 107,
   "metadata": {
    "collapsed": true
   },
   "outputs": [],
   "source": [
    "new_file=pd.DataFrame(columns=ibeacon_list)"
   ]
  },
  {
   "cell_type": "code",
   "execution_count": 108,
   "metadata": {},
   "outputs": [
    {
     "data": {
      "text/html": [
       "<div>\n",
       "<style>\n",
       "    .dataframe thead tr:only-child th {\n",
       "        text-align: right;\n",
       "    }\n",
       "\n",
       "    .dataframe thead th {\n",
       "        text-align: left;\n",
       "    }\n",
       "\n",
       "    .dataframe tbody tr th {\n",
       "        vertical-align: top;\n",
       "    }\n",
       "</style>\n",
       "<table border=\"1\" class=\"dataframe\">\n",
       "  <thead>\n",
       "    <tr style=\"text-align: right;\">\n",
       "      <th></th>\n",
       "      <th>C2:00:4D:00:03:41</th>\n",
       "      <th>C2:00:4D:00:03:45</th>\n",
       "      <th>C2:00:4D:00:03:39</th>\n",
       "      <th>C2:00:4D:00:03:3B</th>\n",
       "      <th>C2:00:4D:00:03:86</th>\n",
       "      <th>C2:00:4D:00:03:5C</th>\n",
       "      <th>C2:00:4D:00:03:43</th>\n",
       "      <th>C2:00:4D:00:03:35</th>\n",
       "      <th>C2:00:4D:00:03:46</th>\n",
       "      <th>C2:00:4D:00:03:47</th>\n",
       "      <th>...</th>\n",
       "      <th>C2:00:4D:00:03:54</th>\n",
       "      <th>C2:00:4D:00:03:9D</th>\n",
       "      <th>C2:00:4D:00:03:9F</th>\n",
       "      <th>C2:00:4D:00:03:44</th>\n",
       "      <th>C2:00:4D:00:03:4E</th>\n",
       "      <th>C2:00:4D:00:03:42</th>\n",
       "      <th>C2:00:4D:00:03:37</th>\n",
       "      <th>C2:00:4D:00:03:59</th>\n",
       "      <th>C2:00:4D:00:03:4A</th>\n",
       "      <th>Location</th>\n",
       "    </tr>\n",
       "  </thead>\n",
       "  <tbody>\n",
       "  </tbody>\n",
       "</table>\n",
       "<p>0 rows × 24 columns</p>\n",
       "</div>"
      ],
      "text/plain": [
       "Empty DataFrame\n",
       "Columns: [C2:00:4D:00:03:41, C2:00:4D:00:03:45, C2:00:4D:00:03:39, C2:00:4D:00:03:3B, C2:00:4D:00:03:86, C2:00:4D:00:03:5C, C2:00:4D:00:03:43, C2:00:4D:00:03:35, C2:00:4D:00:03:46, C2:00:4D:00:03:47, C2:00:4D:00:03:9B, C2:00:4D:00:03:36, C2:00:4D:00:03:6F, C2:00:4D:00:03:3E, C2:00:4D:00:03:54, C2:00:4D:00:03:9D, C2:00:4D:00:03:9F, C2:00:4D:00:03:44, C2:00:4D:00:03:4E, C2:00:4D:00:03:42, C2:00:4D:00:03:37, C2:00:4D:00:03:59, C2:00:4D:00:03:4A, Location]\n",
       "Index: []\n",
       "\n",
       "[0 rows x 24 columns]"
      ]
     },
     "execution_count": 108,
     "metadata": {},
     "output_type": "execute_result"
    }
   ],
   "source": [
    "new_file"
   ]
  },
  {
   "cell_type": "code",
   "execution_count": 171,
   "metadata": {},
   "outputs": [
    {
     "name": "stdout",
     "output_type": "stream",
     "text": [
      "<class 'pandas.core.frame.DataFrame'>\n",
      "Int64Index: 1767 entries, 0 to 1766\n",
      "Data columns (total 4 columns):\n",
      "Location          1767 non-null int64\n",
      "fingerprinting    1767 non-null int64\n",
      "ID                1767 non-null object\n",
      "TIME              1767 non-null int64\n",
      "dtypes: int64(3), object(1)\n",
      "memory usage: 69.0+ KB\n"
     ]
    }
   ],
   "source": [
    "file=pd.read_csv('C:/Users/user/Desktop/VIAX/content/13/cellid/file_12.csv',encoding='utf-8')\n",
    "file=file.sort_values('TIME')\n",
    "file.info()"
   ]
  },
  {
   "cell_type": "code",
   "execution_count": 167,
   "metadata": {},
   "outputs": [
    {
     "data": {
      "text/html": [
       "<div>\n",
       "<style>\n",
       "    .dataframe thead tr:only-child th {\n",
       "        text-align: right;\n",
       "    }\n",
       "\n",
       "    .dataframe thead th {\n",
       "        text-align: left;\n",
       "    }\n",
       "\n",
       "    .dataframe tbody tr th {\n",
       "        vertical-align: top;\n",
       "    }\n",
       "</style>\n",
       "<table border=\"1\" class=\"dataframe\">\n",
       "  <thead>\n",
       "    <tr style=\"text-align: right;\">\n",
       "      <th></th>\n",
       "      <th>C2:00:4D:00:03:41</th>\n",
       "      <th>C2:00:4D:00:03:45</th>\n",
       "      <th>C2:00:4D:00:03:39</th>\n",
       "      <th>C2:00:4D:00:03:3B</th>\n",
       "      <th>C2:00:4D:00:03:86</th>\n",
       "      <th>C2:00:4D:00:03:5C</th>\n",
       "      <th>C2:00:4D:00:03:43</th>\n",
       "      <th>C2:00:4D:00:03:35</th>\n",
       "      <th>C2:00:4D:00:03:46</th>\n",
       "      <th>C2:00:4D:00:03:47</th>\n",
       "      <th>...</th>\n",
       "      <th>C2:00:4D:00:03:54</th>\n",
       "      <th>C2:00:4D:00:03:9D</th>\n",
       "      <th>C2:00:4D:00:03:9F</th>\n",
       "      <th>C2:00:4D:00:03:44</th>\n",
       "      <th>C2:00:4D:00:03:4E</th>\n",
       "      <th>C2:00:4D:00:03:42</th>\n",
       "      <th>C2:00:4D:00:03:37</th>\n",
       "      <th>C2:00:4D:00:03:59</th>\n",
       "      <th>C2:00:4D:00:03:4A</th>\n",
       "      <th>Location</th>\n",
       "    </tr>\n",
       "  </thead>\n",
       "  <tbody>\n",
       "  </tbody>\n",
       "</table>\n",
       "<p>0 rows × 24 columns</p>\n",
       "</div>"
      ],
      "text/plain": [
       "Empty DataFrame\n",
       "Columns: [C2:00:4D:00:03:41, C2:00:4D:00:03:45, C2:00:4D:00:03:39, C2:00:4D:00:03:3B, C2:00:4D:00:03:86, C2:00:4D:00:03:5C, C2:00:4D:00:03:43, C2:00:4D:00:03:35, C2:00:4D:00:03:46, C2:00:4D:00:03:47, C2:00:4D:00:03:9B, C2:00:4D:00:03:36, C2:00:4D:00:03:6F, C2:00:4D:00:03:3E, C2:00:4D:00:03:54, C2:00:4D:00:03:9D, C2:00:4D:00:03:9F, C2:00:4D:00:03:44, C2:00:4D:00:03:4E, C2:00:4D:00:03:42, C2:00:4D:00:03:37, C2:00:4D:00:03:59, C2:00:4D:00:03:4A, Location]\n",
       "Index: []\n",
       "\n",
       "[0 rows x 24 columns]"
      ]
     },
     "execution_count": 167,
     "metadata": {},
     "output_type": "execute_result"
    }
   ],
   "source": [
    "new_file=pd.DataFrame(columns=ibeacon_list)\n",
    "new_file"
   ]
  },
  {
   "cell_type": "code",
   "execution_count": 168,
   "metadata": {
    "collapsed": true
   },
   "outputs": [],
   "source": [
    "i=0\n",
    "cut=100\n",
    "while i<len(file):\n",
    "    id_fp={}\n",
    "    start=file['TIME'][i]\n",
    "    while(file['TIME'][i]<=cut+start):\n",
    "        ID=file['ID'][i]\n",
    "        fp=file['fingerprinting'][i]\n",
    "        id_fp[ID]=fp\n",
    "        i=i+1\n",
    "        if(i>=len(file)):\n",
    "            break\n",
    "    id_fp['Location']=12\n",
    "    new_file=new_file.append(id_fp,ignore_index=True)"
   ]
  },
  {
   "cell_type": "code",
   "execution_count": 169,
   "metadata": {
    "collapsed": true
   },
   "outputs": [],
   "source": [
    "new_file.to_csv('C:/Users/user/Desktop/VIAX/content/13/cellid/process/process_12.csv',index=False)"
   ]
  },
  {
   "cell_type": "code",
   "execution_count": 3,
   "metadata": {},
   "outputs": [],
   "source": [
    "for i in range(1,13):\n",
    "    exec('file_{}=pd.read_csv(\"C:/Users/user/Desktop/VIAX/content/13/cellid/process/process/process_{}.csv\",encoding=\"utf-8\")'.format(i,i))"
   ]
  },
  {
   "cell_type": "code",
   "execution_count": null,
   "metadata": {
    "collapsed": true
   },
   "outputs": [],
   "source": []
  },
  {
   "cell_type": "code",
   "execution_count": 4,
   "metadata": {},
   "outputs": [
    {
     "name": "stdout",
     "output_type": "stream",
     "text": [
      "3660\n"
     ]
    }
   ],
   "source": [
    "sum=0\n",
    "for i in range(1,13):\n",
    "    exec('sum+=file_{}.shape[0]'.format(i))\n",
    "print(sum) "
   ]
  },
  {
   "cell_type": "code",
   "execution_count": 5,
   "metadata": {
    "collapsed": true
   },
   "outputs": [],
   "source": [
    "result = file_1.append([file_2, file_3,file_4,file_5,file_6,file_7,file_8,file_9,file_10,file_11,file_12])"
   ]
  },
  {
   "cell_type": "code",
   "execution_count": 6,
   "metadata": {},
   "outputs": [
    {
     "data": {
      "text/plain": [
       "(3660, 25)"
      ]
     },
     "execution_count": 6,
     "metadata": {},
     "output_type": "execute_result"
    }
   ],
   "source": [
    "result.shape"
   ]
  },
  {
   "cell_type": "code",
   "execution_count": 9,
   "metadata": {},
   "outputs": [],
   "source": [
    "result.drop('Unnamed: 0',axis=1,inplace=True)"
   ]
  },
  {
   "cell_type": "code",
   "execution_count": 10,
   "metadata": {
    "collapsed": true
   },
   "outputs": [],
   "source": [
    "result.to_csv('C:/Users/user/Desktop/VIAX/content/13/cellid/process/process/process_total.csv',index=False)"
   ]
  },
  {
   "cell_type": "code",
   "execution_count": null,
   "metadata": {
    "collapsed": true
   },
   "outputs": [],
   "source": []
  },
  {
   "cell_type": "code",
   "execution_count": null,
   "metadata": {
    "collapsed": true
   },
   "outputs": [],
   "source": []
  },
  {
   "cell_type": "code",
   "execution_count": null,
   "metadata": {
    "collapsed": true
   },
   "outputs": [],
   "source": []
  },
  {
   "cell_type": "code",
   "execution_count": null,
   "metadata": {
    "collapsed": true
   },
   "outputs": [],
   "source": []
  },
  {
   "cell_type": "code",
   "execution_count": 12,
   "metadata": {},
   "outputs": [],
   "source": [
    "file1=pd.read_csv(\"C:/Users/user/Desktop/VIAX/content/13/cellid/process/process/process_total_average.csv\",encoding=\"utf-8\")\n",
    "file2=pd.read_csv(\"C:/Users/user/Desktop/VIAX/content/13/cellid/process/process_total.csv\",encoding=\"utf-8\")"
   ]
  },
  {
   "cell_type": "code",
   "execution_count": 13,
   "metadata": {},
   "outputs": [
    {
     "data": {
      "text/plain": [
       "(3660, 24)"
      ]
     },
     "execution_count": 13,
     "metadata": {},
     "output_type": "execute_result"
    }
   ],
   "source": [
    "file1.shape"
   ]
  },
  {
   "cell_type": "code",
   "execution_count": 14,
   "metadata": {},
   "outputs": [
    {
     "data": {
      "text/plain": [
       "(3660, 24)"
      ]
     },
     "execution_count": 14,
     "metadata": {},
     "output_type": "execute_result"
    }
   ],
   "source": [
    "file2.shape"
   ]
  },
  {
   "cell_type": "code",
   "execution_count": 16,
   "metadata": {},
   "outputs": [],
   "source": [
    "file=file1.append(file2)"
   ]
  },
  {
   "cell_type": "code",
   "execution_count": 17,
   "metadata": {
    "collapsed": true
   },
   "outputs": [],
   "source": [
    "file.to_csv('C:/Users/user/Desktop/VIAX/content/13/find3-master/server/ai/testing/process_total_ensemble.csv',index=False)"
   ]
  },
  {
   "cell_type": "code",
   "execution_count": null,
   "metadata": {
    "collapsed": true
   },
   "outputs": [],
   "source": []
  }
 ],
 "metadata": {
  "kernelspec": {
   "display_name": "Python 3",
   "language": "python",
   "name": "python3"
  },
  "language_info": {
   "codemirror_mode": {
    "name": "ipython",
    "version": 3
   },
   "file_extension": ".py",
   "mimetype": "text/x-python",
   "name": "python",
   "nbconvert_exporter": "python",
   "pygments_lexer": "ipython3",
   "version": "3.6.1"
  }
 },
 "nbformat": 4,
 "nbformat_minor": 2
}
